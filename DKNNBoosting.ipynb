{
  "nbformat": 4,
  "nbformat_minor": 0,
  "metadata": {
    "colab": {
      "name": "DKNNBoosting.ipynb",
      "provenance": []
    },
    "kernelspec": {
      "name": "python3",
      "display_name": "Python 3"
    },
    "language_info": {
      "name": "python"
    }
  },
  "cells": [
    {
      "cell_type": "code",
      "metadata": {
        "colab": {
          "base_uri": "https://localhost:8080/"
        },
        "id": "6EBwlJLswMzy",
        "outputId": "190ad201-4379-4772-c528-12b4939740ae"
      },
      "source": [
        "!wget http://ufldl.stanford.edu/housenumbers/train_32x32.mat\n",
        "!wget http://ufldl.stanford.edu/housenumbers/test_32x32.mat"
      ],
      "execution_count": null,
      "outputs": [
        {
          "output_type": "stream",
          "text": [
            "--2021-03-19 18:32:29--  http://ufldl.stanford.edu/housenumbers/train_32x32.mat\n",
            "Resolving ufldl.stanford.edu (ufldl.stanford.edu)... 171.64.68.10\n",
            "Connecting to ufldl.stanford.edu (ufldl.stanford.edu)|171.64.68.10|:80... connected.\n",
            "HTTP request sent, awaiting response... 200 OK\n",
            "Length: 182040794 (174M) [text/plain]\n",
            "Saving to: ‘train_32x32.mat’\n",
            "\n",
            "train_32x32.mat     100%[===================>] 173.61M  55.4MB/s    in 3.6s    \n",
            "\n",
            "2021-03-19 18:32:32 (48.3 MB/s) - ‘train_32x32.mat’ saved [182040794/182040794]\n",
            "\n",
            "--2021-03-19 18:32:32--  http://ufldl.stanford.edu/housenumbers/test_32x32.mat\n",
            "Resolving ufldl.stanford.edu (ufldl.stanford.edu)... 171.64.68.10\n",
            "Connecting to ufldl.stanford.edu (ufldl.stanford.edu)|171.64.68.10|:80... connected.\n",
            "HTTP request sent, awaiting response... 200 OK\n",
            "Length: 64275384 (61M) [text/plain]\n",
            "Saving to: ‘test_32x32.mat’\n",
            "\n",
            "test_32x32.mat      100%[===================>]  61.30M  27.0MB/s    in 2.3s    \n",
            "\n",
            "2021-03-19 18:32:35 (27.0 MB/s) - ‘test_32x32.mat’ saved [64275384/64275384]\n",
            "\n"
          ],
          "name": "stdout"
        }
      ]
    },
    {
      "cell_type": "code",
      "metadata": {
        "id": "qvwnaXHYwr0i"
      },
      "source": [
        "import keras\n",
        "from keras.layers.normalization import BatchNormalization\n",
        "import numpy as np\n",
        "import scipy.io as io\n",
        "from keras.layers import Activation, Flatten,Softmax\n",
        "from keras.layers import Conv2D\n",
        "from keras.layers import Dense\n",
        "from keras.layers import Dropout\n",
        "from keras.layers import MaxPooling2D\n",
        "from keras.models import Sequential\n",
        "from keras import optimizers\n",
        "from keras.backend import function\n",
        "import pandas as pd"
      ],
      "execution_count": null,
      "outputs": []
    },
    {
      "cell_type": "code",
      "metadata": {
        "id": "s0WrdoTFwu1T"
      },
      "source": [
        "from keras.backend import function"
      ],
      "execution_count": null,
      "outputs": []
    },
    {
      "cell_type": "code",
      "metadata": {
        "id": "tridnR_hw1zi"
      },
      "source": [
        "#importing data\n",
        "train_set = io.loadmat(\"train_32x32.mat\")\n",
        "test_set = io.loadmat(\"test_32x32.mat\")\n",
        "x_train = train_set['X']\n",
        "y_train = train_set['y']\n",
        "x_test = test_set['X']\n",
        "y_test = test_set['y']\n",
        "# Reshaping test and training data sets\n",
        "x_train = np.moveaxis(x_train,[3,0,1,2],[0,1,2,3])\n",
        "x_train = x_train.astype('float32')\n",
        "x_test = np.moveaxis(x_test,[3,0,1,2],[0,1,2,3])\n",
        "x_test = np.asarray(x_test)\n",
        "x_test = x_test.astype('float32')\n",
        "#Normalisation des données\n",
        "x_train /= x_train.max()\n",
        "x_test /= x_test.max()\n",
        "# Passage de classe comme integer à classe comme vecteur de dimension classes\n",
        "y_test_RN = [y-1 for y in y_test]# la classe 1 corresponds au array qui à 1 en indice 0\n",
        "y_train_RN = [y-1 for y in y_train]\n",
        "classes = 10\n",
        "y_train_RN = keras.utils.to_categorical(y_train_RN, classes)\n",
        "y_test_RN = keras.utils.to_categorical(y_test_RN, classes)\n",
        " #Définition du type de data pour optimiser la mémoire\n",
        "y_train_RN = y_train_RN.astype('int32')\n",
        "y_test_RN = y_test_RN.astype('int32')\n",
        "# Featurewise normalization\n",
        "datagen = keras.preprocessing.image.ImageDataGenerator(\n",
        "    featurewise_center=True,\n",
        "    featurewise_std_normalization=True,\n",
        "    horizontal_flip=False,\n",
        "    zca_whitening=False, \n",
        "    zca_epsilon=1e-06)\n",
        "\n",
        "datagen.fit(x_train)"
      ],
      "execution_count": null,
      "outputs": []
    },
    {
      "cell_type": "code",
      "metadata": {
        "colab": {
          "base_uri": "https://localhost:8080/"
        },
        "id": "lvCnZ7kiw276",
        "outputId": "bf2fcd33-b9ce-4c71-b61c-56180c4d5ffa"
      },
      "source": [
        "from google.colab import drive\n",
        "drive.mount('drive')"
      ],
      "execution_count": null,
      "outputs": [
        {
          "output_type": "stream",
          "text": [
            "Mounted at drive\n"
          ],
          "name": "stdout"
        }
      ]
    },
    {
      "cell_type": "code",
      "metadata": {
        "id": "Ro3BqCtrxOhn"
      },
      "source": [
        "model = keras.models.load_model('/content/drive/My Drive/Projet 3A')"
      ],
      "execution_count": null,
      "outputs": []
    },
    {
      "cell_type": "code",
      "metadata": {
        "id": "_jngEle_xS7M",
        "colab": {
          "base_uri": "https://localhost:8080/"
        },
        "outputId": "ad151880-c29f-49a8-887b-b0199b324a16"
      },
      "source": [
        "model.summary()"
      ],
      "execution_count": null,
      "outputs": [
        {
          "output_type": "stream",
          "text": [
            "Model: \"sequential_2\"\n",
            "_________________________________________________________________\n",
            "Layer (type)                 Output Shape              Param #   \n",
            "=================================================================\n",
            "conv2d_10 (Conv2D)           (None, 32, 32, 64)        1792      \n",
            "_________________________________________________________________\n",
            "S1 (MaxPooling2D)            (None, 16, 16, 64)        0         \n",
            "_________________________________________________________________\n",
            "conv2d_11 (Conv2D)           (None, 14, 14, 128)       73856     \n",
            "_________________________________________________________________\n",
            "S2 (MaxPooling2D)            (None, 7, 7, 128)         0         \n",
            "_________________________________________________________________\n",
            "conv2d_12 (Conv2D)           (None, 5, 5, 128)         147584    \n",
            "_________________________________________________________________\n",
            "conv2d_13 (Conv2D)           (None, 3, 3, 128)         147584    \n",
            "_________________________________________________________________\n",
            "conv2d_14 (Conv2D)           (None, 1, 1, 128)         147584    \n",
            "_________________________________________________________________\n",
            "dropout_2 (Dropout)          (None, 1, 1, 128)         0         \n",
            "_________________________________________________________________\n",
            "flatten_2 (Flatten)          (None, 128)               0         \n",
            "_________________________________________________________________\n",
            "dense_2 (Dense)              (None, 10)                1290      \n",
            "=================================================================\n",
            "Total params: 519,690\n",
            "Trainable params: 519,690\n",
            "Non-trainable params: 0\n",
            "_________________________________________________________________\n"
          ],
          "name": "stdout"
        }
      ]
    },
    {
      "cell_type": "code",
      "metadata": {
        "id": "Jk-Zmnazy43S"
      },
      "source": [
        "from sklearn.neighbors import KNeighborsClassifier"
      ],
      "execution_count": null,
      "outputs": []
    },
    {
      "cell_type": "code",
      "metadata": {
        "id": "OdBJiEZc0vuM"
      },
      "source": [
        "y_test_KNN=[k.item() for k in y_test]\n",
        "y_train_KNN=[k.item() for k in y_train]"
      ],
      "execution_count": null,
      "outputs": []
    },
    {
      "cell_type": "code",
      "metadata": {
        "colab": {
          "base_uri": "https://localhost:8080/"
        },
        "id": "l6OOKo0kz0iq",
        "outputId": "cbafc6b2-8834-428a-9d50-a7bf4dbf34a6"
      },
      "source": [
        "get_conv50_output = function([model.layers[0].input],\n",
        "                                  [model.layers[6].output])\n",
        "layer_output_conv50 = get_conv50_output([x_train[:10000]])\n",
        "conv50=np.array(layer_output_conv50[0]).reshape(10000,128)\n",
        "knn1=KNeighborsClassifier()\n",
        "knn1.fit(conv50,y_train_KNN[:10000])"
      ],
      "execution_count": null,
      "outputs": [
        {
          "output_type": "execute_result",
          "data": {
            "text/plain": [
              "KNeighborsClassifier(algorithm='auto', leaf_size=30, metric='minkowski',\n",
              "                     metric_params=None, n_jobs=None, n_neighbors=5, p=2,\n",
              "                     weights='uniform')"
            ]
          },
          "metadata": {
            "tags": []
          },
          "execution_count": 14
        }
      ]
    },
    {
      "cell_type": "code",
      "metadata": {
        "colab": {
          "base_uri": "https://localhost:8080/"
        },
        "id": "_3PxlOZL03XP",
        "outputId": "95870098-14e9-469d-a422-78d9ff6fbb6e"
      },
      "source": [
        "get_conv50_output = function([model.layers[0].input],\n",
        "                                  [model.layers[6].output])\n",
        "layer_output_conv50 = get_conv50_output([x_train[10000:20000]])\n",
        "conv501=np.array(layer_output_conv50[0]).reshape(10000,128)\n",
        "knn2=KNeighborsClassifier()\n",
        "knn2.fit(conv501,y_train_KNN[10000:20000])"
      ],
      "execution_count": null,
      "outputs": [
        {
          "output_type": "execute_result",
          "data": {
            "text/plain": [
              "KNeighborsClassifier(algorithm='auto', leaf_size=30, metric='minkowski',\n",
              "                     metric_params=None, n_jobs=None, n_neighbors=5, p=2,\n",
              "                     weights='uniform')"
            ]
          },
          "metadata": {
            "tags": []
          },
          "execution_count": 15
        }
      ]
    },
    {
      "cell_type": "code",
      "metadata": {
        "colab": {
          "base_uri": "https://localhost:8080/"
        },
        "id": "7WOzpK1D1dW1",
        "outputId": "79e748cf-97bb-4c8d-de8d-e98b2f1a7210"
      },
      "source": [
        "layer_output_conv50 = get_conv50_output([x_train[20000:30000]])\n",
        "conv502=np.array(layer_output_conv50[0]).reshape(10000,128)\n",
        "knn3=KNeighborsClassifier()\n",
        "knn3.fit(conv502,y_train_KNN[20000:30000])"
      ],
      "execution_count": null,
      "outputs": [
        {
          "output_type": "execute_result",
          "data": {
            "text/plain": [
              "KNeighborsClassifier(algorithm='auto', leaf_size=30, metric='minkowski',\n",
              "                     metric_params=None, n_jobs=None, n_neighbors=5, p=2,\n",
              "                     weights='uniform')"
            ]
          },
          "metadata": {
            "tags": []
          },
          "execution_count": 16
        }
      ]
    },
    {
      "cell_type": "code",
      "metadata": {
        "colab": {
          "base_uri": "https://localhost:8080/"
        },
        "id": "jZF2FQhK1tpU",
        "outputId": "ecd2c54b-c37f-45b1-e2c0-0f8d9089cede"
      },
      "source": [
        "layer_output_conv50 = get_conv50_output([x_train[30000:40000]])\n",
        "conv503=np.array(layer_output_conv50[0]).reshape(10000,128)\n",
        "knn4=KNeighborsClassifier()\n",
        "knn4.fit(conv503,y_train_KNN[30000:40000])"
      ],
      "execution_count": null,
      "outputs": [
        {
          "output_type": "execute_result",
          "data": {
            "text/plain": [
              "KNeighborsClassifier(algorithm='auto', leaf_size=30, metric='minkowski',\n",
              "                     metric_params=None, n_jobs=None, n_neighbors=5, p=2,\n",
              "                     weights='uniform')"
            ]
          },
          "metadata": {
            "tags": []
          },
          "execution_count": 17
        }
      ]
    },
    {
      "cell_type": "code",
      "metadata": {
        "colab": {
          "base_uri": "https://localhost:8080/"
        },
        "id": "h6hxwHFy1-vq",
        "outputId": "8ef403ce-0d11-4434-ce31-43874666972f"
      },
      "source": [
        "layer_output_conv50 = get_conv50_output([x_train[40000:50000]])\n",
        "conv504=np.array(layer_output_conv50[0]).reshape(10000,128)\n",
        "knn5=KNeighborsClassifier()\n",
        "knn5.fit(conv504,y_train_KNN[40000:50000])"
      ],
      "execution_count": null,
      "outputs": [
        {
          "output_type": "execute_result",
          "data": {
            "text/plain": [
              "KNeighborsClassifier(algorithm='auto', leaf_size=30, metric='minkowski',\n",
              "                     metric_params=None, n_jobs=None, n_neighbors=5, p=2,\n",
              "                     weights='uniform')"
            ]
          },
          "metadata": {
            "tags": []
          },
          "execution_count": 18
        }
      ]
    },
    {
      "cell_type": "code",
      "metadata": {
        "colab": {
          "base_uri": "https://localhost:8080/"
        },
        "id": "WDnbLXX-2TXL",
        "outputId": "66d62b39-131f-4ff3-9a4f-298da1c28f91"
      },
      "source": [
        "layer_output_conv50 = get_conv50_output([x_train[50000:60000]])\n",
        "conv505=np.array(layer_output_conv50[0]).reshape(10000,128)\n",
        "knn6=KNeighborsClassifier()\n",
        "knn6.fit(conv504,y_train_KNN[50000:60000])"
      ],
      "execution_count": null,
      "outputs": [
        {
          "output_type": "execute_result",
          "data": {
            "text/plain": [
              "KNeighborsClassifier(algorithm='auto', leaf_size=30, metric='minkowski',\n",
              "                     metric_params=None, n_jobs=None, n_neighbors=5, p=2,\n",
              "                     weights='uniform')"
            ]
          },
          "metadata": {
            "tags": []
          },
          "execution_count": 19
        }
      ]
    },
    {
      "cell_type": "code",
      "metadata": {
        "id": "hYSG5pO33sUo"
      },
      "source": [
        "layer_output_conv50_test = get_conv50_output([x_test[:5000]])"
      ],
      "execution_count": null,
      "outputs": []
    },
    {
      "cell_type": "code",
      "metadata": {
        "id": "H029OYIv3uIL"
      },
      "source": [
        "conv50_test=np.array(layer_output_conv50_test[0]).reshape(5000,128)"
      ],
      "execution_count": null,
      "outputs": []
    },
    {
      "cell_type": "code",
      "metadata": {
        "colab": {
          "base_uri": "https://localhost:8080/"
        },
        "id": "U8J6Radc2knp",
        "outputId": "bd49aedb-c435-42e9-cbbd-acdab65608b8"
      },
      "source": [
        "Y1=knn1.predict(conv50_test)\n",
        "Y1"
      ],
      "execution_count": null,
      "outputs": [
        {
          "output_type": "execute_result",
          "data": {
            "text/plain": [
              "array([5, 2, 1, ..., 2, 4, 9])"
            ]
          },
          "metadata": {
            "tags": []
          },
          "execution_count": 24
        }
      ]
    },
    {
      "cell_type": "code",
      "metadata": {
        "colab": {
          "base_uri": "https://localhost:8080/"
        },
        "id": "yNWenSQK4FEb",
        "outputId": "099e940c-2d91-4682-8eef-0da436bad341"
      },
      "source": [
        "Y2=knn2.predict(conv50_test)\n",
        "Y2"
      ],
      "execution_count": null,
      "outputs": [
        {
          "output_type": "execute_result",
          "data": {
            "text/plain": [
              "array([5, 2, 1, ..., 2, 4, 9])"
            ]
          },
          "metadata": {
            "tags": []
          },
          "execution_count": 25
        }
      ]
    },
    {
      "cell_type": "code",
      "metadata": {
        "colab": {
          "base_uri": "https://localhost:8080/"
        },
        "id": "ePfN2gLo4eIO",
        "outputId": "63acb6c2-5b6e-4128-86bc-3c45d29da7d5"
      },
      "source": [
        "Y3=knn3.predict(conv50_test)\n",
        "Y3"
      ],
      "execution_count": null,
      "outputs": [
        {
          "output_type": "execute_result",
          "data": {
            "text/plain": [
              "array([5, 2, 1, ..., 2, 4, 9])"
            ]
          },
          "metadata": {
            "tags": []
          },
          "execution_count": 26
        }
      ]
    },
    {
      "cell_type": "code",
      "metadata": {
        "colab": {
          "base_uri": "https://localhost:8080/"
        },
        "id": "bI9jhdu34iol",
        "outputId": "9f29949e-8db1-47f1-a916-c429c98b38bf"
      },
      "source": [
        "Y4=knn4.predict(conv50_test)\n",
        "Y4"
      ],
      "execution_count": null,
      "outputs": [
        {
          "output_type": "execute_result",
          "data": {
            "text/plain": [
              "array([5, 2, 1, ..., 2, 4, 9])"
            ]
          },
          "metadata": {
            "tags": []
          },
          "execution_count": 27
        }
      ]
    },
    {
      "cell_type": "code",
      "metadata": {
        "colab": {
          "base_uri": "https://localhost:8080/"
        },
        "id": "1mIguaJ54p2R",
        "outputId": "193bc0ab-930d-490e-a115-651f9b5ceb23"
      },
      "source": [
        "Y5=knn5.predict(conv50_test)\n",
        "Y5"
      ],
      "execution_count": null,
      "outputs": [
        {
          "output_type": "execute_result",
          "data": {
            "text/plain": [
              "array([5, 2, 1, ..., 2, 4, 9])"
            ]
          },
          "metadata": {
            "tags": []
          },
          "execution_count": 28
        }
      ]
    },
    {
      "cell_type": "code",
      "metadata": {
        "colab": {
          "base_uri": "https://localhost:8080/"
        },
        "id": "Uz8PVilL4zR5",
        "outputId": "f8f7987c-07e5-4102-c65d-0518f3d34697"
      },
      "source": [
        "Y6=knn6.predict(conv50_test)\n",
        "Y6"
      ],
      "execution_count": null,
      "outputs": [
        {
          "output_type": "execute_result",
          "data": {
            "text/plain": [
              "array([3, 1, 1, ..., 2, 2, 5])"
            ]
          },
          "metadata": {
            "tags": []
          },
          "execution_count": 30
        }
      ]
    },
    {
      "cell_type": "code",
      "metadata": {
        "id": "FpU6SErh5mfx"
      },
      "source": [
        "from collections import Counter"
      ],
      "execution_count": null,
      "outputs": []
    },
    {
      "cell_type": "code",
      "metadata": {
        "id": "WDYk8y4W5CEm"
      },
      "source": [
        "right=0\n",
        "for i in range(5000):\n",
        "  P=[Y1[i],Y2[i],Y3[i],Y4[i],Y5[i]]\n",
        "  c=Counter(P).most_common(1)[0][0]\n",
        "  if c==y_test_KNN[i]:\n",
        "    right=right+1"
      ],
      "execution_count": null,
      "outputs": []
    },
    {
      "cell_type": "code",
      "metadata": {
        "colab": {
          "base_uri": "https://localhost:8080/"
        },
        "id": "CxmWdph16VEc",
        "outputId": "60d3d11f-498f-45c1-a3ed-928d62a0b60d"
      },
      "source": [
        "right"
      ],
      "execution_count": null,
      "outputs": [
        {
          "output_type": "execute_result",
          "data": {
            "text/plain": [
              "4589"
            ]
          },
          "metadata": {
            "tags": []
          },
          "execution_count": 37
        }
      ]
    }
  ]
}