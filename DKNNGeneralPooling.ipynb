{
  "nbformat": 4,
  "nbformat_minor": 0,
  "metadata": {
    "colab": {
      "name": "DKNNGeneralPooling.ipynb",
      "provenance": [],
      "collapsed_sections": [
        "QlxQ0UauVZet",
        "cbQKrpltZ-hU",
        "gJwiQ688b397",
        "CQ6A2bYPc7vJ"
      ]
    },
    "kernelspec": {
      "name": "python3",
      "display_name": "Python 3"
    }
  },
  "cells": [
    {
      "cell_type": "code",
      "metadata": {
        "colab": {
          "base_uri": "https://localhost:8080/"
        },
        "id": "b8VtXyXfXJAG",
        "outputId": "26216782-fc88-4153-c970-de7c24b8d7fd"
      },
      "source": [
        "!wget http://ufldl.stanford.edu/housenumbers/train_32x32.mat\n",
        "!wget http://ufldl.stanford.edu/housenumbers/test_32x32.mat"
      ],
      "execution_count": null,
      "outputs": [
        {
          "output_type": "stream",
          "text": [
            "--2021-02-09 08:11:39--  http://ufldl.stanford.edu/housenumbers/train_32x32.mat\n",
            "Resolving ufldl.stanford.edu (ufldl.stanford.edu)... 171.64.68.10\n",
            "Connecting to ufldl.stanford.edu (ufldl.stanford.edu)|171.64.68.10|:80... connected.\n",
            "HTTP request sent, awaiting response... 200 OK\n",
            "Length: 182040794 (174M) [text/plain]\n",
            "Saving to: ‘train_32x32.mat’\n",
            "\n",
            "train_32x32.mat     100%[===================>] 173.61M  17.0MB/s    in 14s     \n",
            "\n",
            "2021-02-09 08:11:54 (12.0 MB/s) - ‘train_32x32.mat’ saved [182040794/182040794]\n",
            "\n",
            "--2021-02-09 08:11:54--  http://ufldl.stanford.edu/housenumbers/test_32x32.mat\n",
            "Resolving ufldl.stanford.edu (ufldl.stanford.edu)... 171.64.68.10\n",
            "Connecting to ufldl.stanford.edu (ufldl.stanford.edu)|171.64.68.10|:80... connected.\n",
            "HTTP request sent, awaiting response... 200 OK\n",
            "Length: 64275384 (61M) [text/plain]\n",
            "Saving to: ‘test_32x32.mat’\n",
            "\n",
            "test_32x32.mat      100%[===================>]  61.30M  13.2MB/s    in 9.3s    \n",
            "\n",
            "2021-02-09 08:12:04 (6.56 MB/s) - ‘test_32x32.mat’ saved [64275384/64275384]\n",
            "\n"
          ],
          "name": "stdout"
        }
      ]
    },
    {
      "cell_type": "code",
      "metadata": {
        "id": "NiZhmYmOaOEU"
      },
      "source": [
        "import keras\n",
        "from keras.layers.normalization import BatchNormalization\n",
        "import numpy as np\n",
        "import scipy.io as io\n",
        "from keras.layers import Activation, Flatten,Softmax\n",
        "from keras.layers import Conv2D\n",
        "from keras.layers import Dense\n",
        "from keras.layers import Dropout\n",
        "from keras.layers import MaxPooling2D\n",
        "from keras.models import Sequential\n",
        "from keras import optimizers\n",
        "from keras.backend import function\n",
        "import pandas as pd\n",
        "from keras.backend import function"
      ],
      "execution_count": null,
      "outputs": []
    },
    {
      "cell_type": "code",
      "metadata": {
        "id": "Fs4dmPGbcra1"
      },
      "source": [
        "#importing data\n",
        "train_set = io.loadmat(\"train_32x32.mat\")\n",
        "test_set = io.loadmat(\"test_32x32.mat\")\n",
        "x_train = train_set['X']\n",
        "y_train = train_set['y']\n",
        "x_test = test_set['X']\n",
        "y_test = test_set['y']\n",
        "# Reshaping test and training data sets\n",
        "x_train = np.moveaxis(x_train,[3,0,1,2],[0,1,2,3])\n",
        "x_train = x_train.astype('float32')\n",
        "x_test = np.moveaxis(x_test,[3,0,1,2],[0,1,2,3])\n",
        "x_test = np.asarray(x_test)\n",
        "x_test = x_test.astype('float32')\n",
        "#Normalisation des données\n",
        "x_train /= x_train.max()\n",
        "x_test /= x_test.max()\n",
        "# Passage de classe comme integer à classe comme vecteur de dimension classes\n",
        "y_test_RN = [y-1 for y in y_test]# la classe 1 corresponds au array qui à 1 en indice 0\n",
        "y_train_RN = [y-1 for y in y_train]\n",
        "classes = 10\n",
        "y_train_RN = keras.utils.to_categorical(y_train_RN, classes)\n",
        "y_test_RN = keras.utils.to_categorical(y_test_RN, classes)\n",
        " #Définition du type de data pour optimiser la mémoire\n",
        "y_train_RN = y_train_RN.astype('int32')\n",
        "y_test_RN = y_test_RN.astype('int32')\n",
        "# Featurewise normalization\n",
        "datagen = keras.preprocessing.image.ImageDataGenerator(\n",
        "    featurewise_center=True,\n",
        "    featurewise_std_normalization=True,\n",
        "    horizontal_flip=False,\n",
        "    zca_whitening=False, \n",
        "    zca_epsilon=1e-06)\n",
        "\n",
        "datagen.fit(x_train)"
      ],
      "execution_count": null,
      "outputs": []
    },
    {
      "cell_type": "code",
      "metadata": {
        "id": "rfNFemW4c0Li"
      },
      "source": [
        "y_test_KNN=[k.item() for k in y_test]\n",
        "y_train_KNN=[k.item() for k in y_train]"
      ],
      "execution_count": null,
      "outputs": []
    },
    {
      "cell_type": "code",
      "metadata": {
        "colab": {
          "base_uri": "https://localhost:8080/"
        },
        "id": "PkSBOzUQdBA-",
        "outputId": "12754dfa-4dc8-4d01-9553-622a987438a6"
      },
      "source": [
        "from google.colab import drive\n",
        "drive.mount('drive')"
      ],
      "execution_count": null,
      "outputs": [
        {
          "output_type": "stream",
          "text": [
            "Mounted at drive\n"
          ],
          "name": "stdout"
        }
      ]
    },
    {
      "cell_type": "code",
      "metadata": {
        "id": "4Ux3_W6VdMiU"
      },
      "source": [
        "model = keras.models.load_model('/content/drive/MyDrive/Projet 3A')"
      ],
      "execution_count": null,
      "outputs": []
    },
    {
      "cell_type": "code",
      "metadata": {
        "colab": {
          "base_uri": "https://localhost:8080/"
        },
        "id": "cgSDUQIs2khM",
        "outputId": "5333f40a-b93d-4acd-ec12-a96f7e2d01a1"
      },
      "source": [
        "model.evaluate(x_test[:5000],y_test_RN[:5000])"
      ],
      "execution_count": null,
      "outputs": [
        {
          "output_type": "stream",
          "text": [
            "157/157 [==============================] - 6s 33ms/step - loss: 0.3113 - accuracy: 0.9180\n"
          ],
          "name": "stdout"
        },
        {
          "output_type": "execute_result",
          "data": {
            "text/plain": [
              "[0.31132078170776367, 0.9179999828338623]"
            ]
          },
          "metadata": {
            "tags": []
          },
          "execution_count": 7
        }
      ]
    },
    {
      "cell_type": "code",
      "metadata": {
        "id": "KVXKckDldT7i"
      },
      "source": [
        "scores=[]\n",
        "x_train_10000=x_train[:10000]"
      ],
      "execution_count": null,
      "outputs": []
    },
    {
      "cell_type": "code",
      "metadata": {
        "id": "be8Rr-xVWI0X"
      },
      "source": [
        "def generalpooling(X):\n",
        "  (l,m,n)=X.T.shape\n",
        "  L=[]\n",
        "  X1=X.reshape(l,m*n)\n",
        "  for k in range(l):\n",
        "    L.append(max(X1[k]))\n",
        "  return L\n",
        "\n",
        "\n"
      ],
      "execution_count": null,
      "outputs": []
    },
    {
      "cell_type": "code",
      "metadata": {
        "id": "dNBuaK1xXv1c"
      },
      "source": [
        "def generalpooling_data(d):\n",
        "  D=[]\n",
        "  for X in d:\n",
        "    D.append(generalpooling(X))\n",
        "  return D\n"
      ],
      "execution_count": null,
      "outputs": []
    },
    {
      "cell_type": "markdown",
      "metadata": {
        "id": "HosmPRgxUhQU"
      },
      "source": [
        "#Conv2D 50"
      ]
    },
    {
      "cell_type": "code",
      "metadata": {
        "id": "8oXIDa_adhv-"
      },
      "source": [
        "get_conv50_output = function([model.layers[0].input],\n",
        "                                  [model.layers[6].output])\n",
        "layer_output_conv50 = get_conv50_output([x_train_10000])"
      ],
      "execution_count": null,
      "outputs": []
    },
    {
      "cell_type": "code",
      "metadata": {
        "colab": {
          "base_uri": "https://localhost:8080/"
        },
        "id": "DWV5QknFUrsp",
        "outputId": "7967dcf5-ce4d-4b63-d24d-d0403127380d"
      },
      "source": [
        "layer_output_conv50[0][0].shape"
      ],
      "execution_count": null,
      "outputs": [
        {
          "output_type": "execute_result",
          "data": {
            "text/plain": [
              "(1, 1, 128)"
            ]
          },
          "metadata": {
            "tags": []
          },
          "execution_count": 14
        }
      ]
    },
    {
      "cell_type": "markdown",
      "metadata": {
        "id": "rj9k5iJtU_hd"
      },
      "source": [
        "Pas besoin de faire le generalpooling sur cette couche car les cartes sont composé d'une seule valeur\n"
      ]
    },
    {
      "cell_type": "code",
      "metadata": {
        "id": "DUMLbEDrZwxO"
      },
      "source": [
        "scores.append(0.9142)"
      ],
      "execution_count": null,
      "outputs": []
    },
    {
      "cell_type": "markdown",
      "metadata": {
        "id": "QlxQ0UauVZet"
      },
      "source": [
        "#Conv2D 40\n"
      ]
    },
    {
      "cell_type": "code",
      "metadata": {
        "id": "noGl46J4VZJb"
      },
      "source": [
        "get_conv40_output = function([model.layers[0].input],\n",
        "                                  [model.layers[5].output])\n",
        "layer_output_conv40 = get_conv40_output([x_train_10000])[0]"
      ],
      "execution_count": null,
      "outputs": []
    },
    {
      "cell_type": "code",
      "metadata": {
        "id": "boXjigj8VYZx"
      },
      "source": [
        "layer_output_conv40_test = get_conv40_output([x_test[:5000]])[0]"
      ],
      "execution_count": null,
      "outputs": []
    },
    {
      "cell_type": "code",
      "metadata": {
        "id": "X3cUmZCKYGx1"
      },
      "source": [
        "conv40=generalpooling_data(layer_output_conv40)"
      ],
      "execution_count": null,
      "outputs": []
    },
    {
      "cell_type": "code",
      "metadata": {
        "id": "QDREa8K7YTwu"
      },
      "source": [
        "conv40_test=generalpooling_data(layer_output_conv40_test)"
      ],
      "execution_count": null,
      "outputs": []
    },
    {
      "cell_type": "code",
      "metadata": {
        "colab": {
          "base_uri": "https://localhost:8080/"
        },
        "id": "mFNt218YY4L4",
        "outputId": "32fe15c6-72f8-4fa6-f127-df88efa85596"
      },
      "source": [
        "from sklearn.neighbors import KNeighborsClassifier\n",
        "knn_conv40=KNeighborsClassifier()\n",
        "knn_conv40.fit(conv40,y_train_KNN[:10000])"
      ],
      "execution_count": null,
      "outputs": [
        {
          "output_type": "execute_result",
          "data": {
            "text/plain": [
              "KNeighborsClassifier(algorithm='auto', leaf_size=30, metric='minkowski',\n",
              "                     metric_params=None, n_jobs=None, n_neighbors=5, p=2,\n",
              "                     weights='uniform')"
            ]
          },
          "metadata": {
            "tags": []
          },
          "execution_count": 28
        }
      ]
    },
    {
      "cell_type": "code",
      "metadata": {
        "id": "FDUiLKeGZXw5"
      },
      "source": [
        "score=knn_conv40.score(conv40_test,y_test_KNN[:5000])"
      ],
      "execution_count": null,
      "outputs": []
    },
    {
      "cell_type": "code",
      "metadata": {
        "id": "GAgxenD9Zi8Q"
      },
      "source": [
        "scores.append(score)"
      ],
      "execution_count": null,
      "outputs": []
    },
    {
      "cell_type": "code",
      "metadata": {
        "colab": {
          "base_uri": "https://localhost:8080/"
        },
        "id": "qInOnjlFZ5K3",
        "outputId": "b852117b-3a65-433d-c867-f9b483d164d5"
      },
      "source": [
        "scores"
      ],
      "execution_count": null,
      "outputs": [
        {
          "output_type": "execute_result",
          "data": {
            "text/plain": [
              "[0.9142, 0.9142, 0.8654]"
            ]
          },
          "metadata": {
            "tags": []
          },
          "execution_count": 33
        }
      ]
    },
    {
      "cell_type": "markdown",
      "metadata": {
        "id": "cbQKrpltZ-hU"
      },
      "source": [
        "# Conv2D 30\n"
      ]
    },
    {
      "cell_type": "code",
      "metadata": {
        "id": "lvoYjMWIaIGf"
      },
      "source": [
        "get_conv30_output = function([model.layers[0].input],\n",
        "                                  [model.layers[4].output])\n",
        "layer_output_conv30 = get_conv30_output([x_train_10000])[0]"
      ],
      "execution_count": null,
      "outputs": []
    },
    {
      "cell_type": "code",
      "metadata": {
        "id": "gg-i5tlKaKZx"
      },
      "source": [
        "layer_output_conv30_test = get_conv30_output([x_test[:5000]])[0]"
      ],
      "execution_count": null,
      "outputs": []
    },
    {
      "cell_type": "code",
      "metadata": {
        "id": "xKuKzH1XaSz0"
      },
      "source": [
        "conv30=generalpooling_data(layer_output_conv30)"
      ],
      "execution_count": null,
      "outputs": []
    },
    {
      "cell_type": "code",
      "metadata": {
        "id": "qMCDbTllacjL"
      },
      "source": [
        "conv30_test=generalpooling_data(layer_output_conv30_test)"
      ],
      "execution_count": null,
      "outputs": []
    },
    {
      "cell_type": "code",
      "metadata": {
        "colab": {
          "base_uri": "https://localhost:8080/"
        },
        "id": "PViB1UV_bQmq",
        "outputId": "ce5efd31-975d-4c85-8537-40770c443578"
      },
      "source": [
        "layer_output_conv30.shape"
      ],
      "execution_count": null,
      "outputs": [
        {
          "output_type": "execute_result",
          "data": {
            "text/plain": [
              "(10000, 5, 5, 128)"
            ]
          },
          "metadata": {
            "tags": []
          },
          "execution_count": 44
        }
      ]
    },
    {
      "cell_type": "code",
      "metadata": {
        "colab": {
          "base_uri": "https://localhost:8080/"
        },
        "id": "6zHTuvc4bAzb",
        "outputId": "949f5388-e1ec-456a-880e-e78ba7205f54"
      },
      "source": [
        "np.array(conv30).shape"
      ],
      "execution_count": null,
      "outputs": [
        {
          "output_type": "execute_result",
          "data": {
            "text/plain": [
              "(10000, 128)"
            ]
          },
          "metadata": {
            "tags": []
          },
          "execution_count": 42
        }
      ]
    },
    {
      "cell_type": "code",
      "metadata": {
        "colab": {
          "base_uri": "https://localhost:8080/"
        },
        "id": "KWdaQXvcakqI",
        "outputId": "f36bd34a-02f4-4568-c584-126f5ab2b489"
      },
      "source": [
        "knn_conv30=KNeighborsClassifier()\n",
        "knn_conv30.fit(conv30,y_train_KNN[:10000])"
      ],
      "execution_count": null,
      "outputs": [
        {
          "output_type": "execute_result",
          "data": {
            "text/plain": [
              "KNeighborsClassifier(algorithm='auto', leaf_size=30, metric='minkowski',\n",
              "                     metric_params=None, n_jobs=None, n_neighbors=5, p=2,\n",
              "                     weights='uniform')"
            ]
          },
          "metadata": {
            "tags": []
          },
          "execution_count": 41
        }
      ]
    },
    {
      "cell_type": "code",
      "metadata": {
        "id": "JA0NlIeGayy6"
      },
      "source": [
        "score=knn_conv30.score(conv30_test,y_test_KNN[:5000])"
      ],
      "execution_count": null,
      "outputs": []
    },
    {
      "cell_type": "code",
      "metadata": {
        "colab": {
          "base_uri": "https://localhost:8080/"
        },
        "id": "F0041yqDbeWd",
        "outputId": "3d88af14-7c3b-427e-ad9f-e0a48dd8f0e7"
      },
      "source": [
        "scores.append(score)\n",
        "scores"
      ],
      "execution_count": null,
      "outputs": [
        {
          "output_type": "execute_result",
          "data": {
            "text/plain": [
              "[0.9142, 0.9142, 0.8654, 0.7132]"
            ]
          },
          "metadata": {
            "tags": []
          },
          "execution_count": 46
        }
      ]
    },
    {
      "cell_type": "markdown",
      "metadata": {
        "id": "gJwiQ688b397"
      },
      "source": [
        "#Maxpooling S2"
      ]
    },
    {
      "cell_type": "code",
      "metadata": {
        "id": "dAur_0Ifbu7H"
      },
      "source": [
        "get_S2_output = function([model.layers[0].input],\n",
        "                                  [model.layers[3].output])\n",
        "layer_output_S2 = get_S2_output([x_train_10000])[0]"
      ],
      "execution_count": null,
      "outputs": []
    },
    {
      "cell_type": "code",
      "metadata": {
        "id": "QDQ8gzwtb-sM"
      },
      "source": [
        "layer_output_S2_test = get_S2_output([x_test[:5000]])[0]"
      ],
      "execution_count": null,
      "outputs": []
    },
    {
      "cell_type": "code",
      "metadata": {
        "id": "5_6c7XfVcFIC"
      },
      "source": [
        "S2=generalpooling_data(layer_output_S2)"
      ],
      "execution_count": null,
      "outputs": []
    },
    {
      "cell_type": "code",
      "metadata": {
        "id": "ZtdMnDBJcLWO"
      },
      "source": [
        "S2_test=generalpooling_data(layer_output_S2_test)"
      ],
      "execution_count": null,
      "outputs": []
    },
    {
      "cell_type": "code",
      "metadata": {
        "colab": {
          "base_uri": "https://localhost:8080/"
        },
        "id": "xI6pKu1Cccg9",
        "outputId": "6d61b230-08b1-4329-869d-67f8c6291c92"
      },
      "source": [
        "knn_S2=KNeighborsClassifier()\n",
        "knn_S2.fit(S2,y_train_KNN[:10000])"
      ],
      "execution_count": null,
      "outputs": [
        {
          "output_type": "execute_result",
          "data": {
            "text/plain": [
              "KNeighborsClassifier(algorithm='auto', leaf_size=30, metric='minkowski',\n",
              "                     metric_params=None, n_jobs=None, n_neighbors=5, p=2,\n",
              "                     weights='uniform')"
            ]
          },
          "metadata": {
            "tags": []
          },
          "execution_count": 51
        }
      ]
    },
    {
      "cell_type": "code",
      "metadata": {
        "id": "8KpgcDGxcjeY"
      },
      "source": [
        "score=knn_S2.score(S2_test,y_test_KNN[:5000])"
      ],
      "execution_count": null,
      "outputs": []
    },
    {
      "cell_type": "code",
      "metadata": {
        "colab": {
          "base_uri": "https://localhost:8080/"
        },
        "id": "94kZ81hlcpTV",
        "outputId": "5bf3666b-34d1-4a9b-ae85-b00d1440fac2"
      },
      "source": [
        "scores.append(score)\n",
        "scores"
      ],
      "execution_count": null,
      "outputs": [
        {
          "output_type": "execute_result",
          "data": {
            "text/plain": [
              "[0.9142, 0.9142, 0.8654, 0.7132, 0.4696]"
            ]
          },
          "metadata": {
            "tags": []
          },
          "execution_count": 53
        }
      ]
    },
    {
      "cell_type": "markdown",
      "metadata": {
        "id": "CQ6A2bYPc7vJ"
      },
      "source": [
        "# Conv2D 20"
      ]
    },
    {
      "cell_type": "code",
      "metadata": {
        "id": "R-KECmPVczLr"
      },
      "source": [
        "get_conv20_output = function([model.layers[0].input],\n",
        "                                  [model.layers[2].output])\n",
        "layer_output_conv20 = get_conv20_output([x_train_10000])[0]"
      ],
      "execution_count": null,
      "outputs": []
    },
    {
      "cell_type": "code",
      "metadata": {
        "id": "7CpwEuS2dAy2"
      },
      "source": [
        "layer_output_conv20_test = get_conv20_output([x_test[:5000]])[0]"
      ],
      "execution_count": null,
      "outputs": []
    },
    {
      "cell_type": "code",
      "metadata": {
        "id": "XHKv_x0CdKjp"
      },
      "source": [
        "conv20=generalpooling_data(layer_output_conv20)"
      ],
      "execution_count": null,
      "outputs": []
    },
    {
      "cell_type": "code",
      "metadata": {
        "id": "-M_iq4DvdTRO"
      },
      "source": [
        "conv20_test=generalpooling_data(layer_output_conv20_test)"
      ],
      "execution_count": null,
      "outputs": []
    },
    {
      "cell_type": "code",
      "metadata": {
        "colab": {
          "base_uri": "https://localhost:8080/"
        },
        "id": "v8dWjbbAdew4",
        "outputId": "6bb073d9-3088-4b27-f511-aa4484133bc6"
      },
      "source": [
        "knn_conv20=KNeighborsClassifier()\n",
        "knn_conv20.fit(conv20,y_train_KNN[:10000])"
      ],
      "execution_count": null,
      "outputs": [
        {
          "output_type": "execute_result",
          "data": {
            "text/plain": [
              "KNeighborsClassifier(algorithm='auto', leaf_size=30, metric='minkowski',\n",
              "                     metric_params=None, n_jobs=None, n_neighbors=5, p=2,\n",
              "                     weights='uniform')"
            ]
          },
          "metadata": {
            "tags": []
          },
          "execution_count": 59
        }
      ]
    },
    {
      "cell_type": "code",
      "metadata": {
        "id": "aGqDYHr8dsGO"
      },
      "source": [
        "score=knn_conv20.score(conv20_test,y_test_KNN[:5000])"
      ],
      "execution_count": null,
      "outputs": []
    },
    {
      "cell_type": "code",
      "metadata": {
        "colab": {
          "base_uri": "https://localhost:8080/"
        },
        "id": "pjsD9WiCdzqk",
        "outputId": "908bed6b-cbb8-4c55-a137-ea098a8aa66d"
      },
      "source": [
        "scores.append(score)\n",
        "scores"
      ],
      "execution_count": null,
      "outputs": [
        {
          "output_type": "execute_result",
          "data": {
            "text/plain": [
              "[0.9142, 0.9142, 0.8654, 0.7132, 0.4696, 0.378]"
            ]
          },
          "metadata": {
            "tags": []
          },
          "execution_count": 61
        }
      ]
    }
  ]
}