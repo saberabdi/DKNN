{
  "nbformat": 4,
  "nbformat_minor": 0,
  "metadata": {
    "colab": {
      "name": "DKNN.ipynb",
      "provenance": []
    },
    "kernelspec": {
      "name": "python3",
      "display_name": "Python 3"
    }
  },
  "cells": [
    {
      "cell_type": "code",
      "metadata": {
        "colab": {
          "base_uri": "https://localhost:8080/"
        },
        "id": "UwU8Dko68WCI",
        "outputId": "ecf6d429-c6de-44c6-c9b5-114cd0098e78"
      },
      "source": [
        "!wget http://ufldl.stanford.edu/housenumbers/train_32x32.mat\n",
        "!wget http://ufldl.stanford.edu/housenumbers/test_32x32.mat"
      ],
      "execution_count": null,
      "outputs": [
        {
          "output_type": "stream",
          "text": [
            "--2021-03-20 19:56:30--  http://ufldl.stanford.edu/housenumbers/train_32x32.mat\n",
            "Resolving ufldl.stanford.edu (ufldl.stanford.edu)... 171.64.68.10\n",
            "Connecting to ufldl.stanford.edu (ufldl.stanford.edu)|171.64.68.10|:80... connected.\n",
            "HTTP request sent, awaiting response... 200 OK\n",
            "Length: 182040794 (174M) [text/plain]\n",
            "Saving to: ‘train_32x32.mat’\n",
            "\n",
            "train_32x32.mat     100%[===================>] 173.61M  17.2MB/s    in 17s     \n",
            "\n",
            "2021-03-20 19:56:48 (10.0 MB/s) - ‘train_32x32.mat’ saved [182040794/182040794]\n",
            "\n",
            "--2021-03-20 19:56:48--  http://ufldl.stanford.edu/housenumbers/test_32x32.mat\n",
            "Resolving ufldl.stanford.edu (ufldl.stanford.edu)... 171.64.68.10\n",
            "Connecting to ufldl.stanford.edu (ufldl.stanford.edu)|171.64.68.10|:80... connected.\n",
            "HTTP request sent, awaiting response... 200 OK\n",
            "Length: 64275384 (61M) [text/plain]\n",
            "Saving to: ‘test_32x32.mat’\n",
            "\n",
            "test_32x32.mat      100%[===================>]  61.30M  14.5MB/s    in 11s     \n",
            "\n",
            "2021-03-20 19:56:59 (5.59 MB/s) - ‘test_32x32.mat’ saved [64275384/64275384]\n",
            "\n"
          ],
          "name": "stdout"
        }
      ]
    },
    {
      "cell_type": "code",
      "metadata": {
        "id": "trpeM1-h9INr"
      },
      "source": [
        "import keras\n",
        "from keras.layers.normalization import BatchNormalization\n",
        "import numpy as np\n",
        "import scipy.io as io\n",
        "from keras.layers import Activation, Flatten,Softmax\n",
        "from keras.layers import Conv2D\n",
        "from keras.layers import Dense\n",
        "from keras.layers import Dropout\n",
        "from keras.layers import MaxPooling2D\n",
        "from keras.models import Sequential\n",
        "from keras import optimizers\n",
        "from keras.backend import function\n",
        "import pandas as pd"
      ],
      "execution_count": null,
      "outputs": []
    },
    {
      "cell_type": "code",
      "metadata": {
        "id": "b1Orlz4mM-r4"
      },
      "source": [
        "from keras.backend import function"
      ],
      "execution_count": null,
      "outputs": []
    },
    {
      "cell_type": "code",
      "metadata": {
        "id": "hqW3Smbj9M6_"
      },
      "source": [
        "#importing data\n",
        "train_set = io.loadmat(\"train_32x32.mat\")\n",
        "test_set = io.loadmat(\"test_32x32.mat\")\n",
        "x_train = train_set['X']\n",
        "y_train = train_set['y']\n",
        "x_test = test_set['X']\n",
        "y_test = test_set['y']\n",
        "# Reshaping test and training data sets\n",
        "x_train = np.moveaxis(x_train,[3,0,1,2],[0,1,2,3])\n",
        "x_train = x_train.astype('float32')\n",
        "x_test = np.moveaxis(x_test,[3,0,1,2],[0,1,2,3])\n",
        "x_test = np.asarray(x_test)\n",
        "x_test = x_test.astype('float32')\n",
        "#Normalisation des données\n",
        "x_train /= x_train.max()\n",
        "x_test /= x_test.max()\n",
        "# Passage de classe comme integer à classe comme vecteur de dimension classes\n",
        "y_test_RN = [y-1 for y in y_test]# la classe 1 corresponds au array qui à 1 en indice 0\n",
        "y_train_RN = [y-1 for y in y_train]\n",
        "classes = 10\n",
        "y_train_RN = keras.utils.to_categorical(y_train_RN, classes)\n",
        "y_test_RN = keras.utils.to_categorical(y_test_RN, classes)\n",
        " #Définition du type de data pour optimiser la mémoire\n",
        "y_train_RN = y_train_RN.astype('int32')\n",
        "y_test_RN = y_test_RN.astype('int32')\n",
        "# Featurewise normalization\n",
        "datagen = keras.preprocessing.image.ImageDataGenerator(\n",
        "    featurewise_center=True,\n",
        "    featurewise_std_normalization=True,\n",
        "    horizontal_flip=False,\n",
        "    zca_whitening=False, \n",
        "    zca_epsilon=1e-06)\n",
        "\n",
        "datagen.fit(x_train)"
      ],
      "execution_count": null,
      "outputs": []
    },
    {
      "cell_type": "code",
      "metadata": {
        "id": "3IuqDexT9SLN"
      },
      "source": [
        "def deepnet2():\n",
        "  model=Sequential()\n",
        "  model.add(Conv2D(64, kernel_size=(3, 3),padding = 'same', activation='relu', input_shape=x_train.shape[1:]))\n",
        "  model.add(MaxPooling2D(pool_size=(2,2),strides=(2,2),  padding = 'valid', name='S1'))\n",
        "  model.add(Conv2D(128, kernel_size=(3, 3), padding = 'valid', activation='relu'))\n",
        "  model.add(MaxPooling2D(pool_size=(2,2),strides=(2,2),  padding = 'same', name='S2'))\n",
        "  model.add(Conv2D(128, kernel_size=(3, 3),  strides = (1,1), padding = 'valid',  activation='relu'))\n",
        "  model.add(Conv2D(128, kernel_size=(3, 3),  strides = (1,1), padding = 'valid',  activation='relu'))\n",
        "  model.add(Conv2D(128, kernel_size=(3, 3),  strides = (1,1), padding = 'valid',  activation='relu'))\n",
        "  model.add(Dropout(0.5)) \n",
        "  model.add(Flatten())\n",
        "  model.add(Dense(classes, activation='softmax'))\n",
        "  adam = optimizers.Adam(lr = 0.001)\n",
        "  model.compile(loss=keras.losses.categorical_crossentropy,\n",
        "                  optimizer= adam,\n",
        "                  metrics=['accuracy'])\n",
        "  return model"
      ],
      "execution_count": null,
      "outputs": []
    },
    {
      "cell_type": "code",
      "metadata": {
        "colab": {
          "base_uri": "https://localhost:8080/"
        },
        "id": "sIucSWGo9alK",
        "outputId": "c727b4d6-4295-4ea0-9096-487a413163d9"
      },
      "source": [
        "\n",
        "model.summary()"
      ],
      "execution_count": null,
      "outputs": [
        {
          "output_type": "stream",
          "text": [
            "Model: \"sequential_2\"\n",
            "_________________________________________________________________\n",
            "Layer (type)                 Output Shape              Param #   \n",
            "=================================================================\n",
            "conv2d_10 (Conv2D)           (None, 32, 32, 64)        1792      \n",
            "_________________________________________________________________\n",
            "S1 (MaxPooling2D)            (None, 16, 16, 64)        0         \n",
            "_________________________________________________________________\n",
            "conv2d_11 (Conv2D)           (None, 14, 14, 128)       73856     \n",
            "_________________________________________________________________\n",
            "S2 (MaxPooling2D)            (None, 7, 7, 128)         0         \n",
            "_________________________________________________________________\n",
            "conv2d_12 (Conv2D)           (None, 5, 5, 128)         147584    \n",
            "_________________________________________________________________\n",
            "conv2d_13 (Conv2D)           (None, 3, 3, 128)         147584    \n",
            "_________________________________________________________________\n",
            "conv2d_14 (Conv2D)           (None, 1, 1, 128)         147584    \n",
            "_________________________________________________________________\n",
            "dropout_2 (Dropout)          (None, 1, 1, 128)         0         \n",
            "_________________________________________________________________\n",
            "flatten_2 (Flatten)          (None, 128)               0         \n",
            "_________________________________________________________________\n",
            "dense_2 (Dense)              (None, 10)                1290      \n",
            "=================================================================\n",
            "Total params: 519,690\n",
            "Trainable params: 519,690\n",
            "Non-trainable params: 0\n",
            "_________________________________________________________________\n"
          ],
          "name": "stdout"
        }
      ]
    },
    {
      "cell_type": "code",
      "metadata": {
        "colab": {
          "base_uri": "https://localhost:8080/"
        },
        "id": "UfBMqQlH_Xj4",
        "outputId": "0226ed64-1028-4683-c4ed-dad615ae1b69"
      },
      "source": [
        "model2.fit(x_train,y_train_RN, validation_split=0.2 ,epochs=10, batch_size=128)"
      ],
      "execution_count": null,
      "outputs": [
        {
          "output_type": "stream",
          "text": [
            "Epoch 1/10\n",
            "458/458 [==============================] - 256s 557ms/step - loss: 1.9635 - accuracy: 0.3014 - val_loss: 0.6204 - val_accuracy: 0.8182\n",
            "Epoch 2/10\n",
            "458/458 [==============================] - 256s 559ms/step - loss: 0.6761 - accuracy: 0.7991 - val_loss: 0.4275 - val_accuracy: 0.8718\n",
            "Epoch 3/10\n",
            "458/458 [==============================] - 259s 565ms/step - loss: 0.4720 - accuracy: 0.8639 - val_loss: 0.3664 - val_accuracy: 0.8924\n",
            "Epoch 4/10\n",
            "458/458 [==============================] - 256s 560ms/step - loss: 0.4030 - accuracy: 0.8847 - val_loss: 0.3381 - val_accuracy: 0.8993\n",
            "Epoch 5/10\n",
            "458/458 [==============================] - 253s 552ms/step - loss: 0.3588 - accuracy: 0.8989 - val_loss: 0.3142 - val_accuracy: 0.9072\n",
            "Epoch 6/10\n",
            "458/458 [==============================] - 253s 553ms/step - loss: 0.3082 - accuracy: 0.9124 - val_loss: 0.2925 - val_accuracy: 0.9186\n",
            "Epoch 7/10\n",
            "458/458 [==============================] - 253s 553ms/step - loss: 0.2716 - accuracy: 0.9220 - val_loss: 0.3049 - val_accuracy: 0.9090\n",
            "Epoch 8/10\n",
            "458/458 [==============================] - 253s 553ms/step - loss: 0.2553 - accuracy: 0.9269 - val_loss: 0.2830 - val_accuracy: 0.9206\n",
            "Epoch 9/10\n",
            "458/458 [==============================] - 253s 552ms/step - loss: 0.2257 - accuracy: 0.9364 - val_loss: 0.2887 - val_accuracy: 0.9199\n",
            "Epoch 10/10\n",
            "458/458 [==============================] - 254s 555ms/step - loss: 0.1995 - accuracy: 0.9425 - val_loss: 0.2866 - val_accuracy: 0.9204\n"
          ],
          "name": "stdout"
        },
        {
          "output_type": "execute_result",
          "data": {
            "text/plain": [
              "<tensorflow.python.keras.callbacks.History at 0x7feb2e11a240>"
            ]
          },
          "metadata": {
            "tags": []
          },
          "execution_count": 18
        }
      ]
    },
    {
      "cell_type": "code",
      "metadata": {
        "colab": {
          "base_uri": "https://localhost:8080/"
        },
        "id": "KoOhpmKvKLQ2",
        "outputId": "efc086fe-748f-4175-89bc-863a977de730"
      },
      "source": [
        "from google.colab import drive\n",
        "drive.mount('drive')"
      ],
      "execution_count": null,
      "outputs": [
        {
          "output_type": "stream",
          "text": [
            "Mounted at drive\n"
          ],
          "name": "stdout"
        }
      ]
    },
    {
      "cell_type": "code",
      "metadata": {
        "colab": {
          "base_uri": "https://localhost:8080/"
        },
        "id": "Zi_3cE9aKVC7",
        "outputId": "09b3e13b-26b3-4cf6-fce1-9329caab4b0c"
      },
      "source": [
        "model2.save('/content/drive/My Drive/Projet 3A')"
      ],
      "execution_count": null,
      "outputs": [
        {
          "output_type": "stream",
          "text": [
            "INFO:tensorflow:Assets written to: /content/drive/My Drive/Projet 3A/assets\n"
          ],
          "name": "stdout"
        }
      ]
    },
    {
      "cell_type": "code",
      "metadata": {
        "id": "IJHJe1oJOuit"
      },
      "source": [
        "model = keras.models.load_model('/content/drive/My Drive/Projet 3A')"
      ],
      "execution_count": null,
      "outputs": []
    },
    {
      "cell_type": "code",
      "metadata": {
        "id": "S6szq5KiKkjX"
      },
      "source": [
        "scores=[]\n",
        "x_train_10000=x_train[:10000]"
      ],
      "execution_count": null,
      "outputs": []
    },
    {
      "cell_type": "code",
      "metadata": {
        "id": "C9OIV9gcLTOJ"
      },
      "source": [
        "y_test_KNN=[k.item() for k in y_test]\n",
        "y_train_KNN=[k.item() for k in y_train]"
      ],
      "execution_count": null,
      "outputs": []
    },
    {
      "cell_type": "markdown",
      "metadata": {
        "id": "NMmeH_VzLLkO"
      },
      "source": [
        "# Couche conv2d 50"
      ]
    },
    {
      "cell_type": "code",
      "metadata": {
        "colab": {
          "base_uri": "https://localhost:8080/"
        },
        "id": "QQvZJAqwLK41",
        "outputId": "56380e2e-6991-4ae5-ba25-95b98a1ddd72"
      },
      "source": [
        "model.layers[6]"
      ],
      "execution_count": null,
      "outputs": [
        {
          "output_type": "execute_result",
          "data": {
            "text/plain": [
              "<tensorflow.python.keras.layers.convolutional.Conv2D at 0x7f44e62d5e48>"
            ]
          },
          "metadata": {
            "tags": []
          },
          "execution_count": 10
        }
      ]
    },
    {
      "cell_type": "code",
      "metadata": {
        "id": "iYZd2_tqK8oc"
      },
      "source": [
        "get_conv50_output = function([model.layers[0].input],\n",
        "                                  [model.layers[6].output])\n",
        "layer_output_conv50 = get_conv50_output([x_train_10000])"
      ],
      "execution_count": null,
      "outputs": []
    },
    {
      "cell_type": "code",
      "metadata": {
        "colab": {
          "base_uri": "https://localhost:8080/"
        },
        "id": "O5F-WZauQSmg",
        "outputId": "fc7b50da-19f3-407a-c2a0-4a6602bc37e9"
      },
      "source": [
        "np.array(layer_output_conv50[0]).shape"
      ],
      "execution_count": null,
      "outputs": [
        {
          "output_type": "execute_result",
          "data": {
            "text/plain": [
              "(10000, 1, 1, 128)"
            ]
          },
          "metadata": {
            "tags": []
          },
          "execution_count": 12
        }
      ]
    },
    {
      "cell_type": "code",
      "metadata": {
        "id": "LnYf47mEK1sd"
      },
      "source": [
        "conv50=np.array(layer_output_conv50[0]).reshape(10000,128)"
      ],
      "execution_count": null,
      "outputs": []
    },
    {
      "cell_type": "code",
      "metadata": {
        "colab": {
          "base_uri": "https://localhost:8080/"
        },
        "id": "zG_47tjlN9s2",
        "outputId": "4c4c6645-29e9-4f6d-9bad-7e84d5335655"
      },
      "source": [
        "conv50.shape"
      ],
      "execution_count": null,
      "outputs": [
        {
          "output_type": "execute_result",
          "data": {
            "text/plain": [
              "(10000, 128)"
            ]
          },
          "metadata": {
            "tags": []
          },
          "execution_count": 16
        }
      ]
    },
    {
      "cell_type": "code",
      "metadata": {
        "colab": {
          "base_uri": "https://localhost:8080/",
          "height": 198
        },
        "id": "7iBTu8ndOPR5",
        "outputId": "29d58d75-bbaf-4372-fb38-47c048f50a3a"
      },
      "source": [
        "from sklearn.neighbors import KNeighborsClassifier\n",
        "knn_conv50=KNeighborsClassifier()\n",
        "knn_conv50.fit(conv50,y_train_KNN[:10000])"
      ],
      "execution_count": null,
      "outputs": [
        {
          "output_type": "error",
          "ename": "NameError",
          "evalue": "ignored",
          "traceback": [
            "\u001b[0;31m---------------------------------------------------------------------------\u001b[0m",
            "\u001b[0;31mNameError\u001b[0m                                 Traceback (most recent call last)",
            "\u001b[0;32m<ipython-input-14-74814322a874>\u001b[0m in \u001b[0;36m<module>\u001b[0;34m()\u001b[0m\n\u001b[1;32m      1\u001b[0m \u001b[0;32mfrom\u001b[0m \u001b[0msklearn\u001b[0m\u001b[0;34m.\u001b[0m\u001b[0mneighbors\u001b[0m \u001b[0;32mimport\u001b[0m \u001b[0mKNeighborsClassifier\u001b[0m\u001b[0;34m\u001b[0m\u001b[0;34m\u001b[0m\u001b[0m\n\u001b[1;32m      2\u001b[0m \u001b[0mknn_conv50\u001b[0m\u001b[0;34m=\u001b[0m\u001b[0mKNeighborsClassifier\u001b[0m\u001b[0;34m(\u001b[0m\u001b[0;34m)\u001b[0m\u001b[0;34m\u001b[0m\u001b[0;34m\u001b[0m\u001b[0m\n\u001b[0;32m----> 3\u001b[0;31m \u001b[0mknn_conv50\u001b[0m\u001b[0;34m.\u001b[0m\u001b[0mfit\u001b[0m\u001b[0;34m(\u001b[0m\u001b[0mconv50\u001b[0m\u001b[0;34m,\u001b[0m\u001b[0my_train_KNN\u001b[0m\u001b[0;34m[\u001b[0m\u001b[0;34m:\u001b[0m\u001b[0;36m10000\u001b[0m\u001b[0;34m]\u001b[0m\u001b[0;34m)\u001b[0m\u001b[0;34m\u001b[0m\u001b[0;34m\u001b[0m\u001b[0m\n\u001b[0m",
            "\u001b[0;31mNameError\u001b[0m: name 'conv50' is not defined"
          ]
        }
      ]
    },
    {
      "cell_type": "code",
      "metadata": {
        "id": "USsFrMvkQseB"
      },
      "source": [
        "layer_output_conv50_test = get_conv50_output([x_test[:5000]])"
      ],
      "execution_count": null,
      "outputs": []
    },
    {
      "cell_type": "code",
      "metadata": {
        "id": "Gx2FNCO0RbUR"
      },
      "source": [
        "conv50_test=np.array(layer_output_conv50_test[0]).reshape(5000,128)"
      ],
      "execution_count": null,
      "outputs": []
    },
    {
      "cell_type": "code",
      "metadata": {
        "id": "ZblFQsbkQ6NL"
      },
      "source": [
        "score=knn_conv50.score(conv50_test,y_test_KNN[:5000])"
      ],
      "execution_count": null,
      "outputs": []
    },
    {
      "cell_type": "code",
      "metadata": {
        "id": "QZ4pNfuBRpOl"
      },
      "source": [
        "scores.append(score)"
      ],
      "execution_count": null,
      "outputs": []
    },
    {
      "cell_type": "code",
      "metadata": {
        "colab": {
          "base_uri": "https://localhost:8080/"
        },
        "id": "xdd8DcZWRxUT",
        "outputId": "e4fefa07-cab7-4a7d-b247-71562f2b71f6"
      },
      "source": [
        "scores"
      ],
      "execution_count": null,
      "outputs": [
        {
          "output_type": "execute_result",
          "data": {
            "text/plain": [
              "[0.9142, 0.9142]"
            ]
          },
          "metadata": {
            "tags": []
          },
          "execution_count": 26
        }
      ]
    },
    {
      "cell_type": "markdown",
      "metadata": {
        "id": "4E4TK0R1R74T"
      },
      "source": [
        "# Conv2D 40"
      ]
    },
    {
      "cell_type": "code",
      "metadata": {
        "colab": {
          "base_uri": "https://localhost:8080/"
        },
        "id": "uenpFWXvR7nF",
        "outputId": "216150fb-0a90-412a-afcf-131f0432c2d8"
      },
      "source": [
        "model.layers[5]"
      ],
      "execution_count": null,
      "outputs": [
        {
          "output_type": "execute_result",
          "data": {
            "text/plain": [
              "<tensorflow.python.keras.layers.convolutional.Conv2D at 0x7f98da0c37d0>"
            ]
          },
          "metadata": {
            "tags": []
          },
          "execution_count": 8
        }
      ]
    },
    {
      "cell_type": "code",
      "metadata": {
        "id": "99sE4b3bSdcj"
      },
      "source": [
        "%timeit\n",
        "get_conv40_output = function([model.layers[0].input],\n",
        "                                  [model.layers[5].output])\n",
        "layer_output_conv40 = get_conv40_output([x_train_10000])"
      ],
      "execution_count": null,
      "outputs": []
    },
    {
      "cell_type": "code",
      "metadata": {
        "colab": {
          "base_uri": "https://localhost:8080/"
        },
        "id": "SfqF6bQ6Splh",
        "outputId": "a8b897f5-f8e1-44b2-d556-b4a3691829be"
      },
      "source": [
        "np.array(layer_output_conv40[0]).shape"
      ],
      "execution_count": null,
      "outputs": [
        {
          "output_type": "execute_result",
          "data": {
            "text/plain": [
              "(10000, 3, 3, 128)"
            ]
          },
          "metadata": {
            "tags": []
          },
          "execution_count": 29
        }
      ]
    },
    {
      "cell_type": "code",
      "metadata": {
        "id": "WQrDyur-S4ra"
      },
      "source": [
        "conv40=np.array(layer_output_conv40[0]).reshape(10000,1152)"
      ],
      "execution_count": null,
      "outputs": []
    },
    {
      "cell_type": "code",
      "metadata": {
        "id": "JOF-LzXUOSCq"
      },
      "source": [
        "from sklearn.neighbors import KNeighborsClassifier"
      ],
      "execution_count": null,
      "outputs": []
    },
    {
      "cell_type": "code",
      "metadata": {
        "colab": {
          "base_uri": "https://localhost:8080/"
        },
        "id": "kuU2Nv65TDNV",
        "outputId": "9a048539-2d8a-4548-d5ab-4e5ade6f2564"
      },
      "source": [
        "knn_conv40=KNeighborsClassifier()\n",
        "knn_conv40.fit(conv40,y_train_KNN[:10000])"
      ],
      "execution_count": null,
      "outputs": [
        {
          "output_type": "execute_result",
          "data": {
            "text/plain": [
              "KNeighborsClassifier(algorithm='auto', leaf_size=30, metric='minkowski',\n",
              "                     metric_params=None, n_jobs=None, n_neighbors=5, p=2,\n",
              "                     weights='uniform')"
            ]
          },
          "metadata": {
            "tags": []
          },
          "execution_count": 16
        }
      ]
    },
    {
      "cell_type": "code",
      "metadata": {
        "id": "w51PnuuiTM1K"
      },
      "source": [
        "layer_output_conv40_test = get_conv40_output([x_test[:5000]])"
      ],
      "execution_count": null,
      "outputs": []
    },
    {
      "cell_type": "code",
      "metadata": {
        "id": "y0kXUBFdTeot"
      },
      "source": [
        "conv40_test=np.array(layer_output_conv40_test[0]).reshape(5000,1152)"
      ],
      "execution_count": null,
      "outputs": []
    },
    {
      "cell_type": "code",
      "metadata": {
        "id": "fW_-vu4ATnPe"
      },
      "source": [
        "score=knn_conv40.score(conv40_test,y_test_KNN[:5000])"
      ],
      "execution_count": null,
      "outputs": []
    },
    {
      "cell_type": "code",
      "metadata": {
        "id": "ex4PVO8YTwgT"
      },
      "source": [
        "scores.append(score)"
      ],
      "execution_count": null,
      "outputs": []
    },
    {
      "cell_type": "code",
      "metadata": {
        "colab": {
          "base_uri": "https://localhost:8080/"
        },
        "id": "IMAHzXqcT3Cm",
        "outputId": "cbdb5d7e-58c6-4c92-fcba-e5b84d7435a2"
      },
      "source": [
        "scores"
      ],
      "execution_count": null,
      "outputs": [
        {
          "output_type": "execute_result",
          "data": {
            "text/plain": [
              "[0.9142, 0.9142, 0.881]"
            ]
          },
          "metadata": {
            "tags": []
          },
          "execution_count": 37
        }
      ]
    },
    {
      "cell_type": "markdown",
      "metadata": {
        "id": "NsyHL8RBUVHJ"
      },
      "source": [
        "# Conv2D 30"
      ]
    },
    {
      "cell_type": "code",
      "metadata": {
        "colab": {
          "base_uri": "https://localhost:8080/"
        },
        "id": "REEzeWZ7UclE",
        "outputId": "20200e4c-659e-4ef2-804c-e0ff779aa286"
      },
      "source": [
        "model.layers[4]"
      ],
      "execution_count": null,
      "outputs": [
        {
          "output_type": "execute_result",
          "data": {
            "text/plain": [
              "<tensorflow.python.keras.layers.convolutional.Conv2D at 0x7f98da0bdc90>"
            ]
          },
          "metadata": {
            "tags": []
          },
          "execution_count": 20
        }
      ]
    },
    {
      "cell_type": "code",
      "metadata": {
        "id": "QPWfLmnfUjUJ"
      },
      "source": [
        "get_conv30_output = function([model.layers[0].input],\n",
        "                                  [model.layers[4].output])\n",
        "layer_output_conv30 = get_conv30_output([x_train_10000])"
      ],
      "execution_count": null,
      "outputs": []
    },
    {
      "cell_type": "code",
      "metadata": {
        "colab": {
          "base_uri": "https://localhost:8080/"
        },
        "id": "GjVx3LZvUton",
        "outputId": "e4b78a94-afe5-4902-f5f3-ad7572fc96be"
      },
      "source": [
        "np.array(layer_output_conv30[0]).shape"
      ],
      "execution_count": null,
      "outputs": [
        {
          "output_type": "execute_result",
          "data": {
            "text/plain": [
              "(10000, 5, 5, 128)"
            ]
          },
          "metadata": {
            "tags": []
          },
          "execution_count": 22
        }
      ]
    },
    {
      "cell_type": "code",
      "metadata": {
        "id": "8hV7H8hEU2oA"
      },
      "source": [
        "conv30=np.array(layer_output_conv30[0]).reshape(10000,3200)"
      ],
      "execution_count": null,
      "outputs": []
    },
    {
      "cell_type": "code",
      "metadata": {
        "colab": {
          "base_uri": "https://localhost:8080/"
        },
        "id": "X7tCq2QdVEdM",
        "outputId": "59bbc380-2189-4539-be92-59edac31d554"
      },
      "source": [
        "knn_conv30=KNeighborsClassifier()\n",
        "knn_conv30.fit(conv30,y_train_KNN[:10000])"
      ],
      "execution_count": null,
      "outputs": [
        {
          "output_type": "execute_result",
          "data": {
            "text/plain": [
              "KNeighborsClassifier(algorithm='auto', leaf_size=30, metric='minkowski',\n",
              "                     metric_params=None, n_jobs=None, n_neighbors=5, p=2,\n",
              "                     weights='uniform')"
            ]
          },
          "metadata": {
            "tags": []
          },
          "execution_count": 24
        }
      ]
    },
    {
      "cell_type": "code",
      "metadata": {
        "id": "_lVEHbv7VNGm"
      },
      "source": [
        "layer_output_conv30_test = get_conv30_output([x_test[:5000]])"
      ],
      "execution_count": null,
      "outputs": []
    },
    {
      "cell_type": "code",
      "metadata": {
        "id": "Jsm1Von4VVej"
      },
      "source": [
        "conv30_test=np.array(layer_output_conv30_test[0]).reshape(5000,3200)"
      ],
      "execution_count": null,
      "outputs": []
    },
    {
      "cell_type": "code",
      "metadata": {
        "id": "c81Y1G0yVcVN"
      },
      "source": [
        "score=knn_conv30.score(conv30_test,y_test_KNN[:5000])"
      ],
      "execution_count": null,
      "outputs": []
    },
    {
      "cell_type": "code",
      "metadata": {
        "colab": {
          "base_uri": "https://localhost:8080/"
        },
        "id": "qKkXzAyoVhmv",
        "outputId": "acad6947-b9cf-40a0-eda1-9cfa010692ba"
      },
      "source": [
        "scores.append(score)\n",
        "scores"
      ],
      "execution_count": null,
      "outputs": [
        {
          "output_type": "execute_result",
          "data": {
            "text/plain": [
              "[0.9142, 0.9142, 0.881, 0.8164]"
            ]
          },
          "metadata": {
            "tags": []
          },
          "execution_count": 46
        }
      ]
    },
    {
      "cell_type": "markdown",
      "metadata": {
        "id": "H7uWSBz2XGjv"
      },
      "source": [
        "#Maxpooling S2"
      ]
    },
    {
      "cell_type": "code",
      "metadata": {
        "colab": {
          "base_uri": "https://localhost:8080/"
        },
        "id": "Cvm91-dVXLeS",
        "outputId": "eef5415e-2bee-426c-f965-fc07aba8d054"
      },
      "source": [
        "model.layers[3]"
      ],
      "execution_count": null,
      "outputs": [
        {
          "output_type": "execute_result",
          "data": {
            "text/plain": [
              "<tensorflow.python.keras.layers.pooling.MaxPooling2D at 0x7f44e62a4550>"
            ]
          },
          "metadata": {
            "tags": []
          },
          "execution_count": 47
        }
      ]
    },
    {
      "cell_type": "code",
      "metadata": {
        "id": "08VjkoltXF-R"
      },
      "source": [
        "get_S2_output = function([model.layers[0].input],\n",
        "                                  [model.layers[3].output])\n",
        "layer_output_S2 = get_S2_output([x_train_10000])"
      ],
      "execution_count": null,
      "outputs": []
    },
    {
      "cell_type": "code",
      "metadata": {
        "colab": {
          "base_uri": "https://localhost:8080/"
        },
        "id": "gmVo3yRaXhIp",
        "outputId": "77533eda-5994-44fa-89f7-bc114553427c"
      },
      "source": [
        "np.array(layer_output_S2[0]).shape"
      ],
      "execution_count": null,
      "outputs": [
        {
          "output_type": "execute_result",
          "data": {
            "text/plain": [
              "(10000, 7, 7, 128)"
            ]
          },
          "metadata": {
            "tags": []
          },
          "execution_count": 49
        }
      ]
    },
    {
      "cell_type": "code",
      "metadata": {
        "id": "Jy94F-_6Xoov"
      },
      "source": [
        "S2=np.array(layer_output_S2[0]).reshape(10000,6272)"
      ],
      "execution_count": null,
      "outputs": []
    },
    {
      "cell_type": "code",
      "metadata": {
        "colab": {
          "base_uri": "https://localhost:8080/"
        },
        "id": "jfI5RnGUXx9N",
        "outputId": "5b3944db-1e5e-493e-e605-5879f5395dfb"
      },
      "source": [
        "knn_S2=KNeighborsClassifier()\n",
        "knn_S2.fit(S2,y_train_KNN[:10000])"
      ],
      "execution_count": null,
      "outputs": [
        {
          "output_type": "execute_result",
          "data": {
            "text/plain": [
              "KNeighborsClassifier(algorithm='auto', leaf_size=30, metric='minkowski',\n",
              "                     metric_params=None, n_jobs=None, n_neighbors=5, p=2,\n",
              "                     weights='uniform')"
            ]
          },
          "metadata": {
            "tags": []
          },
          "execution_count": 51
        }
      ]
    },
    {
      "cell_type": "code",
      "metadata": {
        "id": "jQbZGGYFX8Jr"
      },
      "source": [
        "layer_output_S2_test = get_S2_output([x_test[:5000]])"
      ],
      "execution_count": null,
      "outputs": []
    },
    {
      "cell_type": "code",
      "metadata": {
        "id": "UNwVDC8yYEeG"
      },
      "source": [
        "S2_test=np.array(layer_output_S2_test[0]).reshape(5000,6272)"
      ],
      "execution_count": null,
      "outputs": []
    },
    {
      "cell_type": "code",
      "metadata": {
        "id": "61BxuTekYLYQ"
      },
      "source": [
        "score=knn_S2.score(S2_test,y_test_KNN[:5000])"
      ],
      "execution_count": null,
      "outputs": []
    },
    {
      "cell_type": "code",
      "metadata": {
        "colab": {
          "base_uri": "https://localhost:8080/"
        },
        "id": "171Dq1_RYOcF",
        "outputId": "4d25c47f-1f9a-408e-bec1-2cacbea8779b"
      },
      "source": [
        "scores.append(score)\n",
        "scores"
      ],
      "execution_count": null,
      "outputs": [
        {
          "output_type": "execute_result",
          "data": {
            "text/plain": [
              "[0.9142, 0.9142, 0.881, 0.8164, 0.6956]"
            ]
          },
          "metadata": {
            "tags": []
          },
          "execution_count": 60
        }
      ]
    },
    {
      "cell_type": "markdown",
      "metadata": {
        "id": "u1GDJbcYdFS5"
      },
      "source": [
        "# Conv2D 20"
      ]
    },
    {
      "cell_type": "code",
      "metadata": {
        "colab": {
          "base_uri": "https://localhost:8080/"
        },
        "id": "gwmkzD9bdEHr",
        "outputId": "5c0efa98-b048-4405-d78c-5bdde2bae6ca"
      },
      "source": [
        "model.layers[2]"
      ],
      "execution_count": null,
      "outputs": [
        {
          "output_type": "execute_result",
          "data": {
            "text/plain": [
              "<tensorflow.python.keras.layers.convolutional.Conv2D at 0x7f44e6267668>"
            ]
          },
          "metadata": {
            "tags": []
          },
          "execution_count": 61
        }
      ]
    },
    {
      "cell_type": "code",
      "metadata": {
        "id": "_nriqws9dO6s"
      },
      "source": [
        "get_conv20_output = function([model.layers[0].input],\n",
        "                                  [model.layers[2].output])\n",
        "layer_output_conv20 = get_conv20_output([x_train_10000])"
      ],
      "execution_count": null,
      "outputs": []
    },
    {
      "cell_type": "code",
      "metadata": {
        "colab": {
          "base_uri": "https://localhost:8080/"
        },
        "id": "KfMEjs2bf-U9",
        "outputId": "f696d18b-f7a2-48d9-8030-73d19110c6dd"
      },
      "source": [
        "np.array(layer_output_conv20[0]).shape"
      ],
      "execution_count": null,
      "outputs": [
        {
          "output_type": "execute_result",
          "data": {
            "text/plain": [
              "(10000, 14, 14, 128)"
            ]
          },
          "metadata": {
            "tags": []
          },
          "execution_count": 63
        }
      ]
    },
    {
      "cell_type": "code",
      "metadata": {
        "id": "5m0aGO73gIuU"
      },
      "source": [
        "conv20=np.array(layer_output_conv20[0]).reshape(10000,25088)"
      ],
      "execution_count": null,
      "outputs": []
    },
    {
      "cell_type": "code",
      "metadata": {
        "colab": {
          "base_uri": "https://localhost:8080/"
        },
        "id": "hCF45sQJgXNG",
        "outputId": "3d00fb59-65eb-4e2e-bc9e-9dd75210ec8d"
      },
      "source": [
        "knn_conv20=KNeighborsClassifier()\n",
        "knn_conv20.fit(conv20,y_train_KNN[:10000])"
      ],
      "execution_count": null,
      "outputs": [
        {
          "output_type": "execute_result",
          "data": {
            "text/plain": [
              "KNeighborsClassifier(algorithm='auto', leaf_size=30, metric='minkowski',\n",
              "                     metric_params=None, n_jobs=None, n_neighbors=5, p=2,\n",
              "                     weights='uniform')"
            ]
          },
          "metadata": {
            "tags": []
          },
          "execution_count": 65
        }
      ]
    },
    {
      "cell_type": "code",
      "metadata": {
        "id": "7DcSKuxsi1pa"
      },
      "source": [
        "layer_output_conv20_test = get_conv20_output([x_test[:5000]])"
      ],
      "execution_count": null,
      "outputs": []
    },
    {
      "cell_type": "code",
      "metadata": {
        "id": "qh6yM2GAjEvM"
      },
      "source": [
        "conv20_test=np.array(layer_output_conv20_test[0]).reshape(5000,25088)"
      ],
      "execution_count": null,
      "outputs": []
    },
    {
      "cell_type": "code",
      "metadata": {
        "id": "THWhdU26jhLu"
      },
      "source": [
        "score=knn_conv20.score(conv20_test,y_test_KNN[:5000])"
      ],
      "execution_count": null,
      "outputs": []
    },
    {
      "cell_type": "code",
      "metadata": {
        "colab": {
          "base_uri": "https://localhost:8080/"
        },
        "id": "qcYzsOtpk4zY",
        "outputId": "89052726-08ab-42ac-d45c-2a61d9c65872"
      },
      "source": [
        "scores.append(score)\n",
        "scores"
      ],
      "execution_count": null,
      "outputs": [
        {
          "output_type": "execute_result",
          "data": {
            "text/plain": [
              "[0.9142, 0.9142, 0.881, 0.8164, 0.6956, 0.653]"
            ]
          },
          "metadata": {
            "tags": []
          },
          "execution_count": 69
        }
      ]
    },
    {
      "cell_type": "markdown",
      "metadata": {
        "id": "ndaQ1yzcy4Qw"
      },
      "source": [
        "# Maxpooling S1"
      ]
    },
    {
      "cell_type": "code",
      "metadata": {
        "colab": {
          "base_uri": "https://localhost:8080/"
        },
        "id": "A7NynbxNy4BK",
        "outputId": "5c556d2f-a5d4-493c-8bdb-dcf88b18af08"
      },
      "source": [
        "model.layers[1]"
      ],
      "execution_count": null,
      "outputs": [
        {
          "output_type": "execute_result",
          "data": {
            "text/plain": [
              "<tensorflow.python.keras.layers.pooling.MaxPooling2D at 0x7f44e6267da0>"
            ]
          },
          "metadata": {
            "tags": []
          },
          "execution_count": 71
        }
      ]
    },
    {
      "cell_type": "code",
      "metadata": {
        "id": "fG2b1g8IzF13"
      },
      "source": [
        "get_S1_output = function([model.layers[0].input],\n",
        "                                  [model.layers[1].output])\n",
        "layer_output_S1 = get_S2_output([x_train_10000])"
      ],
      "execution_count": null,
      "outputs": []
    },
    {
      "cell_type": "markdown",
      "metadata": {
        "id": "RXu1eX0OzUY2"
      },
      "source": [
        "les scores [0.9142, 0.9142, 0.881, 0.8164, 0.6956, 0.653]"
      ]
    }
  ]
}